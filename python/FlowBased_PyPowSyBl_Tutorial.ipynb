{
 "cells": [
  {
   "cell_type": "markdown",
   "id": "c33519ad",
   "metadata": {},
   "source": [
    "# Leveraging PyPowSyBl for Flow‑Based Capacity Calculation\n",
    "\n",
    "A progressive, hands‑on tutorial to **compute** and **visualize** Flow‑Based domains using **PyPowSyBl**."
   ]
  },
  {
   "cell_type": "markdown",
   "id": "5b98358a",
   "metadata": {},
   "source": [
    "## Introduction\n",
    "\n",
    "Flow‑Based (FB) capacity calculation is the methodology TSOs use in Europe’s Core region to allocate cross‑border transmission capacity while respecting network security. It relies on **linear DC sensitivities**, **critical network elements with contingencies (CNECs)**, **Generation Shift Keys (GSKs)**, and **security margins** to bound the admissible net positions of bidding zones. The key elements listed above are introduced progressively throughout the tutorial.\n",
    "\n",
    "### Notebook goals\n",
    "This tutorial is a practical workspace to compute and visualize Flow‑Based domains with PyPowSyBl. We will:\n",
    "1. Introduce PyPowSyBl’s core features (network model, visualization, and load‑flow).\n",
    "2. Build a **toy multi‑zone network** and run a **zonal DC sensitivity analysis** (a prerequisite for FB).\n",
    "3. Construct and visualize the **FB domain** for selected zones.\n",
    "4. Study how FB **parameters** (CNEs, FRM, contingencies) impact the domain’s shape.\n"
   ]
  },
  {
   "cell_type": "markdown",
   "id": "2dad974c",
   "metadata": {},
   "source": [
    "---"
   ]
  },
  {
   "cell_type": "markdown",
   "id": "c8f3016f",
   "metadata": {},
   "source": [
    "## Getting Started\n",
    "\n",
    "To run the notebook on your machine:\n",
    "- you should have ```python``` installed on your laptop (**tested with python 3.13**)\n",
    "- you can install all the required python packages with following command:\n",
    "  \n",
    "```bash\n",
    "pip install -r requirements.txt\n",
    "```\n",
    "\n",
    "To start jupyter:\n",
    "\n",
    "```bash\n",
    "jupyter notebook FlowBased_PyPowSyBl_Tutorial.ipynb\n",
    "```"
   ]
  },
  {
   "cell_type": "code",
   "execution_count": null,
   "id": "24040715",
   "metadata": {},
   "outputs": [],
   "source": [
    "# command to allow interaction with plots later\n",
    "%matplotlib widget"
   ]
  },
  {
   "cell_type": "markdown",
   "id": "7e064789",
   "metadata": {},
   "source": [
    "---"
   ]
  },
  {
   "cell_type": "markdown",
   "id": "bf78e9d8",
   "metadata": {},
   "source": [
    "## A quick tour of PyPowSyBl\n",
    "\n",
    "The [official documentation of PyPowSyBl](https://powsybl.readthedocs.io/projects/pypowsybl/en/stable/#) is a great starting point to explore the network model, data structures, I/O, and plotting utilities. \n",
    "\n",
    "Let's start by importing `pypowsybl`."
   ]
  },
  {
   "cell_type": "code",
   "execution_count": null,
   "id": "ac931a23",
   "metadata": {},
   "outputs": [],
   "source": [
    "import pypowsybl as pp"
   ]
  },
  {
   "cell_type": "markdown",
   "id": "3bd9cf7f",
   "metadata": {},
   "source": [
    "### The network model and its visualization\n",
    "\n",
    "The [network model](https://powsybl.readthedocs.io/projects/pypowsybl/en/stable/user_guide/network.html) of PyPowSyBl contains all the data of a power network (substations, generators, lines, transformers, ...). It is the main data structure of pypowsybl, which provides methods to create, modify and visualize networks.\n",
    "\n",
    "Let's start with IEEE9-bus network, which can be created with a factory method in the library. "
   ]
  },
  {
   "cell_type": "code",
   "execution_count": null,
   "id": "0b5f703b",
   "metadata": {},
   "outputs": [],
   "source": [
    "network = pp.network.create_ieee9()"
   ]
  },
  {
   "cell_type": "markdown",
   "id": "ae85cd8e",
   "metadata": {},
   "source": [
    "In order to diplay the network, we can draw the network area diagram. This type of diagram displays the voltage levels and how they are connected to each other. "
   ]
  },
  {
   "cell_type": "code",
   "execution_count": null,
   "id": "5e5fe78a",
   "metadata": {},
   "outputs": [],
   "source": [
    "network.get_network_area_diagram()"
   ]
  },
  {
   "cell_type": "markdown",
   "id": "4afd5fb3",
   "metadata": {},
   "source": [
    "If you wish to get a more detailed view of the network, featuring each components (busbars, switches, generators, loads, etc.), you can display a single-line diagram. \n",
    "\n",
    "Here, we chose to display the single-line diagram of the 'VL1' substation. Observe the busbars 'B1' and 'B4', linked by a transformer, the generator 'B1-G', linked to busbar 'B1', and lines 'L6-4-0' and 'L5-4-0'."
   ]
  },
  {
   "cell_type": "code",
   "execution_count": null,
   "id": "b9c7c11b",
   "metadata": {},
   "outputs": [],
   "source": [
    "network.get_single_line_diagram('VL1', pp.network.SldParameters(use_name=True))"
   ]
  },
  {
   "cell_type": "markdown",
   "id": "2034342f",
   "metadata": {},
   "source": [
    "All the elements of the network can be accessed with the following methods:\n",
    "\n",
    "| Element | method |\n",
    "|----|----|\n",
    "| substations | [``network.get_substations()``](https://powsybl.readthedocs.io/projects/pypowsybl/en/latest/reference/api/pypowsybl.network.Network.get_substations.html#pypowsybl.network.Network.get_substations) |\n",
    "| voltage levels  | [``network.get_voltage_levels()``](https://powsybl.readthedocs.io/projects/pypowsybl/en/latest/reference/api/pypowsybl.network.Network.get_voltage_levels.html#pypowsybl.network.Network.get_voltage_levels) |\n",
    "| buses | [``network.get_buses()``](https://powsybl.readthedocs.io/projects/pypowsybl/en/latest/reference/api/pypowsybl.network.Network.get_buses.html#pypowsybl.network.Network.get_buses) |\n",
    "| loads | [``network.get_loads()``](https://powsybl.readthedocs.io/projects/pypowsybl/en/latest/reference/api/pypowsybl.network.Network.get_loads.html#pypowsybl.network.Network.get_loads) |\n",
    "| generators | [``network.get_generators()``](https://powsybl.readthedocs.io/projects/pypowsybl/en/latest/reference/api/pypowsybl.network.Network.get_generators.html#pypowsybl.network.Network.get_generators) |\n",
    "| lines | [``network.get_lines()``](https://powsybl.readthedocs.io/projects/pypowsybl/en/latest/reference/api/pypowsybl.network.Network.get_lines.html#pypowsybl.network.Network.get_lines) |\n",
    "| 2 windings transformers | [``network.get_2_windings_transformers()``](https://powsybl.readthedocs.io/projects/pypowsybl/en/latest/reference/api/pypowsybl.network.Network.get_2_windings_transformers.html#pypowsybl.network.Network.get_2_windings_transformers) |\n",
    "| dangling lines | [``network.get_dangling_lines()``](https://powsybl.readthedocs.io/projects/pypowsybl/en/latest/reference/api/pypowsybl.network.Network.get_dangling_lines.html#pypowsybl.network.Network.get_dangling_lines) |\n",
    "| tie lines | [``network.get_tie_lines()``](https://powsybl.readthedocs.io/projects/pypowsybl/en/latest/reference/api/pypowsybl.network.Network.get_tie_lines.html#pypowsybl.network.Network.get_tie_lines) |\n",
    "\n",
    "For a complete description of all the elements of the network and how to interact with them, you can refer to the [corresponding documentation](https://powsybl.readthedocs.io/projects/pypowsybl/en/stable/user_guide/network.html#reading-network-elements-data). "
   ]
  },
  {
   "cell_type": "markdown",
   "id": "616d6ec8",
   "metadata": {},
   "source": [
    "Let’s take the example of the network’s generators and branches."
   ]
  },
  {
   "cell_type": "code",
   "execution_count": null,
   "id": "8d64c97d",
   "metadata": {},
   "outputs": [],
   "source": [
    "generators = network.get_generators()\n",
    "generators"
   ]
  },
  {
   "cell_type": "code",
   "execution_count": null,
   "id": "5e90e046",
   "metadata": {
    "scrolled": true
   },
   "outputs": [],
   "source": [
    "branches = network.get_branches()\n",
    "branches"
   ]
  },
  {
   "cell_type": "markdown",
   "id": "c021af1f",
   "metadata": {},
   "source": [
    "Note that no values are provided for the power or current flowing through the branches, since no simulation has yet been run on the network. The next section focuses on performing a load flow simulation on it."
   ]
  },
  {
   "cell_type": "markdown",
   "id": "b63ed837",
   "metadata": {},
   "source": [
    "### Load flow simulations\n",
    "\n",
    "PyPowSyBl provides an interface to PowSyBl’s load flow simulations, which include both DC and AC analyses. The latter solves a system of non-linear equations, known as the load flow equations, which establish the fundamental relationship between bus voltages and active/reactive power injections at each bus under Kirchhoff’s laws.\n",
    "\n",
    "This analysis computes the voltage magnitude and angle, as well as the power flows on each bus of the network. Let’s run an AC load flow to analyze the base case (i.e., without contingencies, also called the *N case*)."
   ]
  },
  {
   "cell_type": "code",
   "execution_count": null,
   "id": "ac558a60",
   "metadata": {},
   "outputs": [],
   "source": [
    "pp.loadflow.run_ac(network)"
   ]
  },
  {
   "cell_type": "markdown",
   "id": "4f269bbb",
   "metadata": {},
   "source": [
    "The results include all the main information from the simulation (convergence status, number of iterations, slack bus used, unserved active power, etc.). "
   ]
  },
  {
   "cell_type": "markdown",
   "id": "c42816a2",
   "metadata": {},
   "source": [
    "To visualize the flows computed by the simulation, you can either inspect the branches directly or display the network area diagram (see [previous section](#the-network-model-and-its-visualization))."
   ]
  },
  {
   "cell_type": "code",
   "execution_count": null,
   "id": "29c2ee8b",
   "metadata": {},
   "outputs": [],
   "source": [
    "branches"
   ]
  },
  {
   "cell_type": "markdown",
   "id": "7dc1d620",
   "metadata": {},
   "source": [
    "It is also possible to run a load flow simulation using a DC approximation of power flows. This can be done easily with the following code."
   ]
  },
  {
   "cell_type": "code",
   "execution_count": null,
   "id": "3ceaa272",
   "metadata": {},
   "outputs": [],
   "source": [
    "pp.loadflow.run_dc(network)"
   ]
  },
  {
   "cell_type": "markdown",
   "id": "e67d599c",
   "metadata": {},
   "source": [
    "Let’s check the results on the branches. What do you observe ?"
   ]
  },
  {
   "cell_type": "code",
   "execution_count": null,
   "id": "4ae774cc",
   "metadata": {},
   "outputs": [],
   "source": [
    "branches"
   ]
  },
  {
   "cell_type": "markdown",
   "id": "9d5ba3fc",
   "metadata": {},
   "source": [
    "The DC load flow simulation is partly used by PyPowSyBl’s DC sensitivity analysis. The following section shows how to perform such an analysis."
   ]
  },
  {
   "cell_type": "markdown",
   "id": "247bdf0f",
   "metadata": {},
   "source": [
    "### DC sensitivity analysis"
   ]
  },
  {
   "cell_type": "markdown",
   "id": "034a8c60",
   "metadata": {},
   "source": [
    "A nodal DC sensitivity analysis evaluates, within the DC approximation of the power system, the marginal impact of an injection change (generation or load) at a given node on power flows. We are talking about Power Transfer Distribution Factors (PTDFs), in this case nodal PTDFs, since the variation is evaluated at the node level.\n",
    "\n",
    "Let’s create the runner that will launch such analysis."
   ]
  },
  {
   "cell_type": "code",
   "execution_count": null,
   "id": "04468345",
   "metadata": {},
   "outputs": [],
   "source": [
    "dc_sa = pp.sensitivity.create_dc_analysis()"
   ]
  },
  {
   "cell_type": "markdown",
   "id": "a90641b9",
   "metadata": {},
   "source": [
    "In order to perform a sensitivity analysis with pypowsybl, you must first define the “factors” you want to compute. What we call a factor is the impact of a small variation of a variable (e.g., the active power injection of a generator), on a function (e.g., the active power flow on a branch).\n",
    "\n",
    "In the following example, we are going to assess the effect of increasing the production of generator 'B2-G' on the lines of our network. \n",
    "\n",
    "Pypowsybl provides a method to define the variables and functions through their ids."
   ]
  },
  {
   "cell_type": "code",
   "execution_count": null,
   "id": "0d42ab73",
   "metadata": {},
   "outputs": [],
   "source": [
    "dc_sa.add_branch_flow_factor_matrix(\n",
    "    branches_ids=branches.index, \n",
    "    variables_ids=['B2-G']\n",
    ")"
   ]
  },
  {
   "cell_type": "markdown",
   "id": "6cdfaf24",
   "metadata": {},
   "source": [
    "Let's run the sensitivity analysis."
   ]
  },
  {
   "cell_type": "code",
   "execution_count": null,
   "id": "6d25caee",
   "metadata": {},
   "outputs": [],
   "source": [
    "result = dc_sa.run(network)"
   ]
  },
  {
   "cell_type": "markdown",
   "id": "047d3f18",
   "metadata": {},
   "source": [
    "We obtain a matrix of sensitivities as a result."
   ]
  },
  {
   "cell_type": "code",
   "execution_count": null,
   "id": "b0a9dde4",
   "metadata": {},
   "outputs": [],
   "source": [
    "result.get_sensitivity_matrix()"
   ]
  },
  {
   "cell_type": "markdown",
   "id": "6463c7bf",
   "metadata": {},
   "source": [
    "Thus, a 1-MW increase at generator 'B2-G' results in a 0.36-MW increase in active power flow on line 'L7-8-0', from side 1 to side 2."
   ]
  },
  {
   "cell_type": "markdown",
   "id": "12cc9f3d",
   "metadata": {},
   "source": [
    "For more information on PyPowSyBl’s sensitivity calculations, the reader can refer to a dedicated PowSyBl notebook, freely available [here](https://github.com/powsybl/pypowsybl-notebooks/blob/main/sensitivity_analysis.ipynb)."
   ]
  },
  {
   "cell_type": "markdown",
   "id": "078462cd",
   "metadata": {},
   "source": [
    "---"
   ]
  },
  {
   "cell_type": "markdown",
   "id": "566d678f",
   "metadata": {},
   "source": [
    "## Modeling and Visualizing a Flow‑Based Domain with PyPowSyBl"
   ]
  },
  {
   "cell_type": "markdown",
   "id": "7e3ba222",
   "metadata": {},
   "source": [
    "### Flow‑Based Capacity Calculation\n",
    "\n",
    "#### Context\n",
    "\n",
    "Flow-based capacity calculation is the method used for computation of cross-borders capacities in the Core region. This method determines, for each market zone, the maximum possible cross-border exchange capacities while simultaneously accounting for the physical constraints of the power grid (power flows and security margins) to ensure safe and efficient trading. \n",
    "\n",
    "These maximum exchange capacities are represented by a secure domain in the space of net positions $np_z$, each corresponding to the difference between the power exported and imported by zone $z$. The following figure illustrates an example of a commercial exchange space in a toy network that will be detailed later in the tutorial.\n",
    "\n",
    "<img src=\"../images/3D_fb_domain.png\" alt=\"title\" width=\"50%\">\n",
    "\n",
    "Each dimension corresponds to the range of possible commercial exchanges for a specific hub (i.e., a bidding zone or a virtual hub created for modelling purposes). In the following, we will only refer to bidding zones, or zones, denoted by the set $ZONES$. It is within the boundaries of this domain that EUPHEMIA (the Pan-European Hybrid Electricity Market Integration Algorithm) seeks the optimum of European social welfare. The steps to compute this domain, called the Flow-Based domain, within the Core region are documented [here](https://www.entsoe.eu/bites/ccr-core/day-ahead/). \n",
    "\n",
    "In the remainder of this tutorial, we focus exclusively on constructing a Flow-Based domain with PyPowSyBl and on its visualization.\n",
    "\n",
    "#### Flow-Based domain\n",
    "\n",
    "Let $CNECs$ denote the set of critical network elements for a contingency, defining the Flow-Based domain. With $PTDF_{z,c}$ denoting the impact in terms of flow of zone $z$ on CNEC $c$, and $RAM_c$ the remaining available margin of CNEC $c$, the equations defining the domain are:\n",
    "\n",
    "$$\\sum_{z\\in ZONES} PTDF_{z,c} np_z \\leq RAM_c \\qquad \\forall c \\in CNECs \\qquad (1)$$\n",
    "\n",
    "$$\\sum_{z\\in ZONES} np_z = 0 \\qquad (2)$$\n",
    "\n",
    "Equation $(1)$ ensures that each CNEC of the network is not congested for any possible commercial exchange. Equation $(2)$ ensures that the Flow-Based domain describes sets of net positions that make sense from a modelling perspective: the sum of the net positions of all zones must be zero (what is exported must be imported somewhere else within the Flow-Based area). \n",
    "\n",
    "The Flow-Based domain is therefore the intersection of a polyhedron (or polytope), arising from constraints $(1)$, and a hyperplane (equation $(2)$).\n",
    "\n",
    "The previous domain comes from a toy network studied in [(Felten et al., 2016)](https://www.sciencedirect.com/science/article/pii/S0957178720301302). To visualize its Flow-Based domain, we must first build this network with PyPowSyBl. The next section is dedicated to this.\n"
   ]
  },
  {
   "cell_type": "markdown",
   "id": "07d684f1",
   "metadata": {},
   "source": [
    "### Building a toy network\n",
    "\n",
    "We set up a small **multi‑zone** system (e.g., FR, DE, BE) to make the algebra transparent. This network is only for illustration but captures the essential features needed to compute PTDFs and a Flow‑Based domain. It is taken from the study conducted in [(Felten et al., 2016)](https://www.sciencedirect.com/science/article/pii/S0957178720301302), and resembles the network illustrated below.\n",
    "\n",
    "Building such a network can be done easily with PyPowSyBl’s functions."
   ]
  },
  {
   "cell_type": "code",
   "execution_count": null,
   "id": "63c801e4",
   "metadata": {},
   "outputs": [],
   "source": [
    "import pandas as pd\n",
    "\n",
    "# Initialize an empty network\n",
    "network: pp.network.Network = pp.network.create_empty()\n",
    "\n",
    "# Create bidding zones as substations (using PyPowSyBl substations)\n",
    "network.create_substations(id=[\"FR\", \"DE\", \"BE\"])\n",
    "network.update_substations(id=[\"FR\"], TSO=[\"RTE\"], country=[\"FR\"])\n",
    "network.update_substations(id=[\"DE\"], TSO=[\"Tennet\"], country=[\"DE\"])\n",
    "network.update_substations(id=[\"BE\"], TSO=[\"Elia\"], country=[\"BE\"])\n",
    "\n",
    "# Create one voltage level per zone\n",
    "voltage_levels = pd.DataFrame.from_records(\n",
    "    index=\"id\",\n",
    "    data=[\n",
    "        {\"substation_id\": \"FR\", \"id\": \"Z_FR\", \"topology_kind\": \"BUS_BREAKER\", \"nominal_v\": 1},\n",
    "        {\"substation_id\": \"DE\", \"id\": \"Z_DE\", \"topology_kind\": \"BUS_BREAKER\", \"nominal_v\": 1},\n",
    "        {\"substation_id\": \"BE\", \"id\": \"Z_BE\", \"topology_kind\": \"BUS_BREAKER\", \"nominal_v\": 1},\n",
    "    ],\n",
    ")\n",
    "network.create_voltage_levels(voltage_levels)\n",
    "\n",
    "# Add buses in the different zones\n",
    "network.create_buses(\n",
    "    id=[\"B1\", \"B2\", \"B3\", \"B4\"],\n",
    "    voltage_level_id=[\"Z_FR\", \"Z_DE\", \"Z_DE\", \"Z_BE\"],\n",
    ")\n",
    "\n",
    "# Create lines (assume identical impedances to simplify calculations)\n",
    "network.create_lines(\n",
    "    id=\"alpha\", name=\"alpha\",\n",
    "    voltage_level1_id=\"Z_FR\",  bus1_id=\"B1\",\n",
    "    voltage_level2_id=\"Z_DE\", bus2_id=\"B2\",\n",
    "    b1=0, b2=0, g1=0, g2=0, r=0, x=1,\n",
    ")\n",
    "network.create_lines(\n",
    "    id=\"beta\", name=\"beta\",\n",
    "    voltage_level1_id=\"Z_FR\",  bus1_id=\"B1\",\n",
    "    voltage_level2_id=\"Z_BE\",  bus2_id=\"B4\",\n",
    "    b1=0, b2=0, g1=0, g2=0, r=0, x=1,\n",
    ")\n",
    "network.create_lines(\n",
    "    id=\"gamma\", name=\"gamma\",\n",
    "    voltage_level1_id=\"Z_DE\", bus1_id=\"B2\",\n",
    "    voltage_level2_id=\"Z_DE\", bus2_id=\"B3\",\n",
    "    b1=0, b2=0, g1=0, g2=0, r=0, x=1,\n",
    ")\n",
    "network.create_lines(\n",
    "    id=\"delta\", name=\"delta\",\n",
    "    voltage_level1_id=\"Z_DE\", bus1_id=\"B2\",\n",
    "    voltage_level2_id=\"Z_BE\", bus2_id=\"B4\",\n",
    "    b1=0, b2=0, g1=0, g2=0, r=0, x=1,\n",
    ")\n",
    "network.create_lines(\n",
    "    id=\"epsilon\", name=\"epsilon\",\n",
    "    voltage_level1_id=\"Z_DE\", bus1_id=\"B3\",\n",
    "    voltage_level2_id=\"Z_BE\", bus2_id=\"B4\",\n",
    "    b1=0, b2=0, g1=0, g2=0, r=0, x=1,\n",
    ")"
   ]
  },
  {
   "cell_type": "markdown",
   "id": "0e716b6c",
   "metadata": {},
   "source": [
    "Now, let’s visualize the network we just built. We use the same function as in section [Network model and its visualization](#the-network-model-and-its-visualization), where the display is configured for improved rendering."
   ]
  },
  {
   "cell_type": "code",
   "execution_count": null,
   "id": "794af244",
   "metadata": {},
   "outputs": [],
   "source": [
    "network.get_network_area_diagram(\n",
    "    nad_parameters=pp.network.NadParameters(\n",
    "        edge_name_displayed=True, \n",
    "        id_displayed=True, \n",
    "        edge_info_along_edge=False, \n",
    "        bus_legend=False, \n",
    "        substation_description_displayed=False, \n",
    "    )\n",
    ")"
   ]
  },
  {
   "cell_type": "markdown",
   "id": "c150536a",
   "metadata": {},
   "source": [
    "### Zone‑to‑zone sensitivity: PTDF computation\n",
    "\n",
    "Section [DC sensitivity analysis](#dc-sensitivity-analysis) showed how to compute nodal PTDFs with PyPowSyBl. The PTDFs used in the Flow-Based domain equations (see [Flow-Based domain](#flow-based-domain)) are zonal PTDFs, i.e., mapping the variation of injection in zone $z$ to the flows on the different CNECs.\n",
    "\n",
    "The two categories of PTDFs are related. Indeed, from the nodal DC sensitivity matrix, we aggregate to zones using **Generation Shift Keys** (GSKs) to obtain zonal PTDFs. The GSKs indicate how the total net position of a zone is distributed among its generators (or nodes), thus defining how a zonal injection change is translated into nodal injections and corresponding line flows.\n",
    "\n",
    "Let’s start by adding loads and generators to enable the computation of nodal PTDFs."
   ]
  },
  {
   "cell_type": "code",
   "execution_count": null,
   "id": "01d441de",
   "metadata": {},
   "outputs": [],
   "source": [
    "# loads in the grid\n",
    "network.create_loads(\n",
    "    id=\"LOAD_FR\", voltage_level_id=\"Z_FR\", bus_id=\"B1\", p0=150, q0=0\n",
    ")\n",
    "network.create_loads(\n",
    "    id=\"LOAD_BE\", voltage_level_id=\"Z_BE\", bus_id=\"B4\", p0=150, q0=0\n",
    ")\n",
    "\n",
    "# production capacities in the grid\n",
    "network.create_generators(\n",
    "    id=\"G1\", voltage_level_id=\"Z_FR\", bus_id=\"B1\",\n",
    "    min_p=0, max_p=150, target_p=75,\n",
    "    voltage_regulator_on=True, target_v=1,\n",
    ")\n",
    "network.create_generators(\n",
    "    id=\"G11\", voltage_level_id=\"Z_FR\", bus_id=\"B1\",\n",
    "    min_p=0, max_p=200, target_p=75,\n",
    "    voltage_regulator_on=True, target_v=1,\n",
    ")\n",
    "network.create_generators(\n",
    "    id=\"G2\", voltage_level_id=\"Z_DE\", bus_id=\"B2\",\n",
    "    min_p=0, max_p=1200, target_p=50,\n",
    "    voltage_regulator_on=True, target_v=1,\n",
    ")\n",
    "network.create_generators(\n",
    "    id=\"G2_wind\", voltage_level_id=\"Z_DE\", bus_id=\"B2\",\n",
    "    min_p=0, max_p=200, target_p=25,\n",
    "    voltage_regulator_on=True, target_v=1,\n",
    ")\n",
    "network.create_generators(\n",
    "    id=\"G3\", voltage_level_id=\"Z_DE\", bus_id=\"B3\",\n",
    "    min_p=0, max_p=300, target_p=75,\n",
    "    voltage_regulator_on=True, target_v=1,\n",
    ")\n",
    "network.create_generators(\n",
    "    id=\"G4\", voltage_level_id=\"Z_BE\", bus_id=\"B4\",\n",
    "    min_p=0, max_p=150, target_p=75,\n",
    "    voltage_regulator_on=True, target_v=1,\n",
    ")"
   ]
  },
  {
   "cell_type": "markdown",
   "id": "dc98bf0b",
   "metadata": {},
   "source": [
    "Then, in order to compute zonal PTDFs with PyPowSyBl, we must define zones, with associated GSKs."
   ]
  },
  {
   "cell_type": "code",
   "execution_count": null,
   "id": "cbd58a21",
   "metadata": {},
   "outputs": [],
   "source": [
    "# here we use GSK proportional to generators targets for each zone\n",
    "zone_fr = pp.sensitivity.create_country_zone(network, \"FR\", key_type=pp.sensitivity.ZoneKeyType.GENERATOR_TARGET_P)\n",
    "zone_de = pp.sensitivity.create_country_zone(network, \"DE\", key_type=pp.sensitivity.ZoneKeyType.GENERATOR_TARGET_P)\n",
    "zone_be = pp.sensitivity.create_country_zone(network, \"BE\", key_type=pp.sensitivity.ZoneKeyType.GENERATOR_TARGET_P)"
   ]
  },
  {
   "cell_type": "markdown",
   "id": "4bfc8585",
   "metadata": {},
   "source": [
    "Now let’s add these zones to a DC sensitivity simulator in order to perform a zonal DC sensitivity analysis."
   ]
  },
  {
   "cell_type": "code",
   "execution_count": null,
   "id": "0c708942",
   "metadata": {},
   "outputs": [],
   "source": [
    "sa = pp.sensitivity.create_dc_analysis()\n",
    "sa.set_zones(zones=[zone_fr, zone_de, zone_be])"
   ]
  },
  {
   "cell_type": "markdown",
   "id": "cfc66876",
   "metadata": {},
   "source": [
    "Let’s start with the case where the critical elements are only the network lines (base case, no contingencies) — i.e., the **CNEs**. We want to assess how each zone’s net position affects these branches. This can be added easily with the following code."
   ]
  },
  {
   "cell_type": "code",
   "execution_count": null,
   "id": "cc8ecfdc",
   "metadata": {},
   "outputs": [],
   "source": [
    "cne = network.get_branches().index\n",
    "sa.add_branch_flow_factor_matrix(cne, variables_ids=[\"FR\", \"DE\", \"BE\"])"
   ]
  },
  {
   "cell_type": "markdown",
   "id": "35c76216",
   "metadata": {},
   "source": [
    "Let’s run the sensitivity analysis we just set up."
   ]
  },
  {
   "cell_type": "code",
   "execution_count": null,
   "id": "7e4d249d",
   "metadata": {},
   "outputs": [],
   "source": [
    "parameters_lf = pp.loadflow.Parameters(\n",
    "    distributed_slack=True,\n",
    "    connected_component_mode=pp.loadflow.ConnectedComponentMode.MAIN,\n",
    ")\n",
    "sa_result = sa.run(network, parameters_lf)"
   ]
  },
  {
   "cell_type": "markdown",
   "id": "30c64b3d",
   "metadata": {},
   "source": [
    "Now let's visualize the results."
   ]
  },
  {
   "cell_type": "code",
   "execution_count": null,
   "id": "7111ad54",
   "metadata": {},
   "outputs": [],
   "source": [
    "base_case_zone_ptdf = sa_result.get_sensitivity_matrix().T\n",
    "print(base_case_zone_ptdf)"
   ]
  },
  {
   "cell_type": "markdown",
   "id": "6b6b670b",
   "metadata": {},
   "source": [
    "To make it easier to work with the resulting dataframe, we update its indexing."
   ]
  },
  {
   "cell_type": "code",
   "execution_count": null,
   "id": "446949d5",
   "metadata": {},
   "outputs": [],
   "source": [
    "LABEL_CNE_ID = \"CNE_id\"\n",
    "base_case_zone_ptdf[LABEL_CNE_ID] = base_case_zone_ptdf.index\n",
    "base_case_zone_ptdf = base_case_zone_ptdf.reset_index(drop=True)\n",
    "base_case_zone_ptdf = base_case_zone_ptdf.set_index([LABEL_CNE_ID])\n",
    "print(base_case_zone_ptdf)"
   ]
  },
  {
   "cell_type": "markdown",
   "id": "04f40dbc",
   "metadata": {},
   "source": [
    "Each value of this matrix indicates how the flow is distributed on a given CNE (rows), for a variation in a given zone (columns)."
   ]
  },
  {
   "cell_type": "markdown",
   "id": "ed050ca9",
   "metadata": {},
   "source": [
    "### Remaining Available Margins\n",
    "\n",
    "**Remaining Available Margins** (RAM) is the right-hand side of the Flow-Based equations introduced in Section [Flow-Based domain](#flow-based-domain). It corresponds to the margin left on a CNEC for market exchanges after accounting for base case flows and security margins. A common formulation is $RAM = F_{max} - F_0 - FRM$, possibly adjusted by other security parameters, with:\n",
    "- $F_{max}$: the maximum thermal capacity of the line (or CNEC), i.e., the physical operational limit.\n",
    "- $F_0$: the reference/base case flow on the line before considering additional commercial exchanges.\n",
    "- $FRM$: the Flow Reliability Margin, a security margin accounting for uncertainties in flows (e.g., forecast errors, model approximations).\n",
    "\n",
    "In the following, to simplify our calculations, we assume (unless stated otherwise) that $RAM = F_{max}$.\n",
    "\n",
    "Let’s add *operational limits* $F_{max}$ to our CNEs."
   ]
  },
  {
   "cell_type": "code",
   "execution_count": null,
   "id": "3e2f6d71",
   "metadata": {},
   "outputs": [],
   "source": [
    "# These limits represent the maximum admissible active power (MW) flow\n",
    "# on the line before it is considered overloaded.\n",
    "network.create_operational_limits(\n",
    "    element_id=\"alpha\", side=\"ONE\",\n",
    "    name=\"MW\", type=\"ACTIVE_POWER\",\n",
    "    value=75, acceptable_duration=-1,\n",
    ")\n",
    "network.create_operational_limits(\n",
    "    element_id=\"beta\", side=\"ONE\",\n",
    "    name=\"MW\", type=\"ACTIVE_POWER\",\n",
    "    value=75, acceptable_duration=-1,\n",
    ")\n",
    "network.create_operational_limits(\n",
    "    element_id=\"gamma\", side=\"ONE\",\n",
    "    name=\"MW\", type=\"ACTIVE_POWER\",\n",
    "    value=130, acceptable_duration=-1,\n",
    ")\n",
    "network.create_operational_limits(\n",
    "    element_id=\"delta\", side=\"ONE\",\n",
    "    name=\"MW\", type=\"ACTIVE_POWER\",\n",
    "    value=50, acceptable_duration=-1,\n",
    ")\n",
    "network.create_operational_limits(\n",
    "    element_id=\"epsilon\", side=\"ONE\",\n",
    "    name=\"MW\", type=\"ACTIVE_POWER\",\n",
    "    value=130, acceptable_duration=-1,\n",
    ")"
   ]
  },
  {
   "cell_type": "markdown",
   "id": "ac31a05d",
   "metadata": {},
   "source": [
    "We retrieve the operational limits of the lines."
   ]
  },
  {
   "cell_type": "code",
   "execution_count": null,
   "id": "7678d72d",
   "metadata": {},
   "outputs": [],
   "source": [
    "limits = network.get_operational_limits()\n",
    "print(limits)"
   ]
  },
  {
   "cell_type": "markdown",
   "id": "0d6f7fa0",
   "metadata": {},
   "source": [
    "We remove unnecessary columns and reindex the dataframe to simplify handling."
   ]
  },
  {
   "cell_type": "code",
   "execution_count": null,
   "id": "40ea85d0",
   "metadata": {},
   "outputs": [],
   "source": [
    "# remove useless columns for FB calculation\n",
    "ratings_power = limits[[\"value\", \"side\"]]\n",
    "\n",
    "# reindex the dataframe\n",
    "ratings_power.index.name = LABEL_CNE_ID\n",
    "ratings_power = ratings_power.rename(columns={\"value\": \"ram\", \"side\": \"direction\"})\n",
    "print(ratings_power)"
   ]
  },
  {
   "cell_type": "markdown",
   "id": "983146f2",
   "metadata": {},
   "source": [
    "Each RAM value is interpreted as the maximum flow that can circulate on a CNE."
   ]
  },
  {
   "cell_type": "markdown",
   "id": "af4496f5",
   "metadata": {},
   "source": [
    "### Flow‑Based domain dataframe\n",
    "\n",
    "We assemble all pieces (**zonal PTDFs**, **RAM**, and **CNE metadata**) into a single dataframe. This table is the canonical input to building linear inequalities of the FB domain."
   ]
  },
  {
   "cell_type": "code",
   "execution_count": null,
   "id": "4392dc3a",
   "metadata": {},
   "outputs": [],
   "source": [
    "flow_based_domain = base_case_zone_ptdf.merge(ratings_power, left_index=True, right_index=True)\n",
    "print(flow_based_domain)"
   ]
  },
  {
   "cell_type": "markdown",
   "id": "a379300f",
   "metadata": {},
   "source": [
    "In order to obtain a convex space, the constraints for each CNE must be defined in both possible directions of power flow. For simplicity, we assume that the limits are also valid in the opposite direction. Let’s add these constraints to the dataframe corresponding to our Flow-Based domain."
   ]
  },
  {
   "cell_type": "code",
   "execution_count": null,
   "id": "2f31a22f",
   "metadata": {},
   "outputs": [],
   "source": [
    "df_direction_two = flow_based_domain.assign(direction='TWO', **{c:-flow_based_domain[c] for c in ['FR','DE','BE']}).set_axis(flow_based_domain.index.map(str)+'_2')\n",
    "flow_based_domain = pd.concat([flow_based_domain, df_direction_two]).sort_index() # sort to improve readiness\n",
    "print(flow_based_domain)"
   ]
  },
  {
   "cell_type": "markdown",
   "id": "776c61b2",
   "metadata": {},
   "source": [
    "Each row defines one of the inequalities $(1)$, called PTDF constraints, introduced in Section [Flow-Based domain](#flow-based-domain)."
   ]
  },
  {
   "cell_type": "markdown",
   "id": "f80d2663",
   "metadata": {},
   "source": [
    "### Visualization"
   ]
  },
  {
   "cell_type": "markdown",
   "id": "632883df",
   "metadata": {},
   "source": [
    "Let’s add the functions to visualize the Flow-Based domain built in the previous section in 3D. They allow us to display the polytope corresponding to the intersection of the PTDF constraints, as well as the hyperplane corresponding to the balance of net positions (see [Introduction to Flow-Based Capacity Calculation](#introduction-to-flow-based-capacity-calculation))."
   ]
  },
  {
   "cell_type": "code",
   "execution_count": null,
   "id": "b01fd4f3",
   "metadata": {},
   "outputs": [],
   "source": [
    "import numpy as np\n",
    "from scipy.spatial import ConvexHull, HalfspaceIntersection\n",
    "import matplotlib.pyplot as plt\n",
    "from mpl_toolkits.mplot3d.art3d import Poly3DCollection\n",
    "\n",
    "def get_3D_domain_convex_hull(flow_based_domain, zones: list[str]):\n",
    "    \"\"\"\n",
    "    Compute the convex hull of the Flow-Based domain in 3D.\n",
    "\n",
    "    Parameters\n",
    "    ----------\n",
    "    flow_based_domain : DataFrame\n",
    "        Contains the PTDF values per zone and the RAM for each CNEC.\n",
    "    zones : list of str\n",
    "        The three bidding zones we want to project the domain onto.\n",
    "\n",
    "    Returns\n",
    "    -------\n",
    "    vertices : ndarray\n",
    "        Coordinates of the intersection points of all half-spaces.\n",
    "    hull : ConvexHull\n",
    "        The convex hull object built from the vertices.\n",
    "    \"\"\"\n",
    "    # Build half-space constraints from PTDFs and RAM values\n",
    "    halfspaces = []\n",
    "    for cnec in flow_based_domain.index:\n",
    "        ram = flow_based_domain.loc[cnec, \"ram\"]\n",
    "        ptdfs = [flow_based_domain.loc[cnec, zone] for zone in zones]\n",
    "        # Each constraint has the form: sum_z PTDF_z * np_z <= RAM\n",
    "        halfspaces.append(ptdfs + [-ram])\n",
    "    halfspaces = np.array(halfspaces)\n",
    "\n",
    "    # Choose an interior point guaranteed to be in the domain (origin works)\n",
    "    interior_point = np.array([0, 0, 0])\n",
    "\n",
    "    # Compute half-space intersection and extract vertices\n",
    "    hs = HalfspaceIntersection(halfspaces, interior_point)\n",
    "    vertices = hs.intersections\n",
    "\n",
    "    # Build convex hull from the intersection points\n",
    "    hull = ConvexHull(vertices)\n",
    "    return vertices, hull\n",
    "\n",
    "\n",
    "def plot_3d_domain(flow_based_domain, zones, axis_eps: float = 2e-1):\n",
    "    \"\"\"\n",
    "    Plot the Flow-Based domain in 3D.\n",
    "\n",
    "    Parameters\n",
    "    ----------\n",
    "    flow_based_domain : DataFrame\n",
    "        Contains PTDFs and RAMs for each CNEC.\n",
    "    zones : list of str\n",
    "        Names of the three bidding zones to be used as axes.\n",
    "    axis_eps : float\n",
    "        Small margin to enlarge axis limits (for visualization clarity).\n",
    "    \"\"\"\n",
    "\n",
    "    fig = plt.figure(figsize=(10, 8))\n",
    "    ax = fig.add_subplot(111, projection=\"3d\")\n",
    "\n",
    "    # --- Compute convex hull of the FB domain ---\n",
    "    vertices, hull = get_3D_domain_convex_hull(flow_based_domain, zones)\n",
    "\n",
    "    # Axis limits with a small expansion factor for readability\n",
    "    x_min, x_max = vertices[:, 0].min() * (1 + axis_eps), vertices[:, 0].max() * (1 + axis_eps)\n",
    "    y_min, y_max = vertices[:, 1].min() * (1 + axis_eps), vertices[:, 1].max() * (1 + axis_eps)\n",
    "    z_min, z_max = vertices[:, 2].min() * (1 + axis_eps), vertices[:, 2].max() * (1 + axis_eps)\n",
    "\n",
    "    # --- Plot convex hull faces ---\n",
    "    hull_faces = []\n",
    "    for simplex in hull.simplices:\n",
    "        face = vertices[simplex]\n",
    "        poly = Poly3DCollection([face], alpha=0.5, facecolor=\"white\", edgecolor=\"k\")\n",
    "        ax.add_collection3d(poly)\n",
    "        hull_faces.append(poly)\n",
    "\n",
    "    # --- Plot the balance hyperplane (sum of net positions = 0) ---\n",
    "    xx, yy = np.meshgrid(np.linspace(x_min, x_max, 20), np.linspace(y_min, y_max, 20))\n",
    "    zz = -xx - yy  # enforce np1 + np2 + np3 = 0\n",
    "    plane = ax.plot_surface(xx, yy, zz, alpha=0.3)\n",
    "    plane.set_visible(True)\n",
    "\n",
    "    # --- Formatting axes ---\n",
    "    ax.set_xlim(x_min, x_max)\n",
    "    ax.set_ylim(y_min, y_max)\n",
    "    ax.set_zlim(z_min, z_max)\n",
    "\n",
    "    ax.set_xlabel(f\"Net Position {zones[0]} (MW)\")\n",
    "    ax.set_ylabel(f\"Net Position {zones[1]} (MW)\")\n",
    "    ax.set_zlabel(f\"Net Position {zones[2]} (MW)\")\n",
    "    ax.set_title(\"Flow-Based domain\", fontsize=10, fontweight=\"bold\")\n",
    "\n",
    "    plt.show()"
   ]
  },
  {
   "cell_type": "markdown",
   "id": "914fc1d6",
   "metadata": {},
   "source": [
    "Let’s display the Flow-Based domain computed in the [previous section](#flow-based-domain-dataframe)."
   ]
  },
  {
   "cell_type": "code",
   "execution_count": null,
   "id": "fd03572a",
   "metadata": {},
   "outputs": [],
   "source": [
    "plot_3d_domain(flow_based_domain=flow_based_domain, zones=[\"FR\", \"DE\", \"BE\"])"
   ]
  },
  {
   "cell_type": "markdown",
   "id": "e3f6c2d7",
   "metadata": {},
   "source": [
    "### Domain visualization with contingencies\n",
    "\n",
    "Up to now, the domain has been displayed for the base case (or CNEs). Now, we include *contingencies* explicitly and compare the domain with and without contingencies to quantify their *tightening effect*.\n",
    "\n",
    "To do so, we add post-contingency cases to the sensitivity analysis, i.e., for each CNE we add a contingency corresponding to one of the network’s lines."
   ]
  },
  {
   "cell_type": "code",
   "execution_count": null,
   "id": "add867e6",
   "metadata": {},
   "outputs": [],
   "source": [
    "for contingency in cne:\n",
    "    sa.add_single_element_contingency(contingency)"
   ]
  },
  {
   "cell_type": "markdown",
   "id": "a36546b3",
   "metadata": {},
   "source": [
    "We rerun the sensitivity analysis to compute the post-contingency sensitivity factors."
   ]
  },
  {
   "cell_type": "code",
   "execution_count": null,
   "id": "b116f398",
   "metadata": {},
   "outputs": [],
   "source": [
    "sa_result = sa.run(network, parameters_lf)"
   ]
  },
  {
   "cell_type": "markdown",
   "id": "36e7ca1b",
   "metadata": {},
   "source": [
    "As in the previous sections, we build the dataframe for the Flow-Based domain. For easier handling, the indices of the dataframes resulting from the zonal sensitivity analysis are reordered. To do so, we are going to use the following function:"
   ]
  },
  {
   "cell_type": "code",
   "execution_count": null,
   "id": "6c6de8b6",
   "metadata": {},
   "outputs": [],
   "source": [
    "from pandas import DataFrame\n",
    "\n",
    "LABEL_CONT_ID = \"contingency_id\"\n",
    "def format_ptdf_matrix(sensitivity_matrix:DataFrame, contingency_id=None):\n",
    "    sensitivity_matrix[LABEL_CNE_ID] = sensitivity_matrix.index\n",
    "    sensitivity_matrix[LABEL_CONT_ID] = \"\" if contingency_id is None else contingency_id\n",
    "    sensitivity_matrix = sensitivity_matrix.reset_index(drop=True)\n",
    "    sensitivity_matrix.set_index([LABEL_CNE_ID, LABEL_CONT_ID])\n",
    "    return sensitivity_matrix.set_index([LABEL_CNE_ID, LABEL_CONT_ID])"
   ]
  },
  {
   "cell_type": "markdown",
   "id": "e4e7fd87",
   "metadata": {},
   "source": [
    "Let’s start with the dataframe corresponding to the base case."
   ]
  },
  {
   "cell_type": "code",
   "execution_count": null,
   "id": "7279de80",
   "metadata": {},
   "outputs": [],
   "source": [
    "base_case_ptdf = sa_result.get_sensitivity_matrix().T\n",
    "base_case_ptdf = format_ptdf_matrix(base_case_ptdf)\n",
    "print(base_case_ptdf)"
   ]
  },
  {
   "cell_type": "markdown",
   "id": "c7cf27bb",
   "metadata": {},
   "source": [
    "Let’s do the same for the post-contingency sensitivity factors."
   ]
  },
  {
   "cell_type": "code",
   "execution_count": null,
   "id": "b63046cd",
   "metadata": {},
   "outputs": [],
   "source": [
    "ptdf = base_case_ptdf\n",
    "for contingency in cne:\n",
    "    post_cont_ptdf = sa_result.get_sensitivity_matrix(contingency_id=contingency).T\n",
    "    post_cont_ptdf = format_ptdf_matrix(post_cont_ptdf, contingency_id=contingency)\n",
    "    ptdf = pd.concat([ptdf, post_cont_ptdf])\n",
    "print(ptdf)"
   ]
  },
  {
   "cell_type": "markdown",
   "id": "fe28d484",
   "metadata": {},
   "source": [
    "We can now build our Flow-Based domain."
   ]
  },
  {
   "cell_type": "code",
   "execution_count": null,
   "id": "4ff44208",
   "metadata": {},
   "outputs": [],
   "source": [
    "flow_based_domain = ptdf.merge(ratings_power, left_index=True, right_index=True)\n",
    "print(flow_based_domain)"
   ]
  },
  {
   "cell_type": "markdown",
   "id": "d2f83ac6",
   "metadata": {},
   "source": [
    "Each row defines one of the inequalities $(1)$, called PTDF constraints, introduced in Section [Flow-Based domain](#flow-based-domain). Now, there is one row for each line–contingency combination (a CNEC)."
   ]
  },
  {
   "cell_type": "markdown",
   "id": "9e15a075",
   "metadata": {},
   "source": [
    "As before, we add the limits in the opposite direction of the power flow."
   ]
  },
  {
   "cell_type": "code",
   "execution_count": null,
   "id": "266b2b49",
   "metadata": {},
   "outputs": [],
   "source": [
    "df_direction_two = flow_based_domain.assign(direction='TWO', **{c:-flow_based_domain[c] for c in ['FR','DE','BE']})\n",
    "# this time, indices are 2 dimensionnal\n",
    "index = df_direction_two.index\n",
    "index_cne = index.get_level_values(0).astype(str) + \"2\"\n",
    "df_direction_two.index = pd.MultiIndex.from_arrays([index_cne, index.get_level_values(1)], names=index.names)\n",
    "\n",
    "flow_based_domain = pd.concat([flow_based_domain, df_direction_two]).sort_index() # sort to improve readiness"
   ]
  },
  {
   "cell_type": "markdown",
   "id": "634dab5f",
   "metadata": {},
   "source": [
    "We can now visualize the convex domain. What observations can be made?"
   ]
  },
  {
   "cell_type": "code",
   "execution_count": null,
   "id": "fa893213",
   "metadata": {},
   "outputs": [],
   "source": [
    "plot_3d_domain(flow_based_domain=flow_based_domain, zones=[\"FR\", \"DE\", \"BE\"])"
   ]
  },
  {
   "cell_type": "markdown",
   "id": "2827304c",
   "metadata": {},
   "source": [
    "### Domain visualization with FRM\n",
    "\n",
    "**FRM** has been introduced in Section X. We now add it to RAM calculation to illustrate how security margins and policy choices impact the market domain. Increasing FRM (or raising minRAM binding CNECs) typically **shrinks** the admissible region. \n",
    "\n",
    "Let's start with a $FRM$ value proportional to the operational limit $F_{max}$ of the lines."
   ]
  },
  {
   "cell_type": "code",
   "execution_count": null,
   "id": "f4684350",
   "metadata": {},
   "outputs": [],
   "source": [
    "frm = 0.1"
   ]
  },
  {
   "cell_type": "markdown",
   "id": "76d7652b",
   "metadata": {},
   "source": [
    "Let us now change the calculation of the $RAM$ of the CNECs in order to observe the impact of the $FRM$. We take the previous Flow-Based domain and add the columns we need."
   ]
  },
  {
   "cell_type": "code",
   "execution_count": null,
   "id": "313f4fd6",
   "metadata": {},
   "outputs": [],
   "source": [
    "fb_domain_with_frm = flow_based_domain\n",
    "fb_domain_with_frm['fmax'] = fb_domain_with_frm['ram']\n",
    "fb_domain_with_frm['frm'] = frm * fb_domain_with_frm['fmax']"
   ]
  },
  {
   "cell_type": "markdown",
   "id": "2212adfc",
   "metadata": {},
   "source": [
    "We redefine the $RAM$ of the CNECs as $RAM = F_{max} - FRM$."
   ]
  },
  {
   "cell_type": "code",
   "execution_count": null,
   "id": "babf9ab3",
   "metadata": {},
   "outputs": [],
   "source": [
    "fb_domain_with_frm['ram'] = fb_domain_with_frm['fmax'] - fb_domain_with_frm['frm']\n",
    "print(fb_domain_with_frm)"
   ]
  },
  {
   "cell_type": "markdown",
   "id": "9ebf3ceb",
   "metadata": {},
   "source": [
    "We now can visualize the domain taking $FRM$ into account."
   ]
  },
  {
   "cell_type": "code",
   "execution_count": null,
   "id": "a9d394d2",
   "metadata": {},
   "outputs": [],
   "source": [
    "plot_3d_domain(flow_based_domain=fb_domain_with_frm, zones=[\"FR\", \"DE\", \"BE\"])"
   ]
  },
  {
   "cell_type": "markdown",
   "id": "533b76a5",
   "metadata": {},
   "source": [
    "What observations can be made? You can vary the values of $FRM$ and visualize the resulting domains."
   ]
  },
  {
   "cell_type": "markdown",
   "id": "e13035ba",
   "metadata": {},
   "source": [
    "---"
   ]
  },
  {
   "cell_type": "markdown",
   "id": "11b76e2f",
   "metadata": {},
   "source": [
    "## Conclusion and next steps\n",
    "\n",
    "In this notebook, we have:\n",
    "- Designed a toy multi-zone network in PyPowSyBl,  \n",
    "- Computed DC sensitivities and derived zonal PTDFs via GSKs,  \n",
    "- Defined RAMs and assembled the corresponding CNEC constraints,  \n",
    "- Plotted and analyzed the Flow-Based domain under base case, contingencies, and FRM assumptions.  \n",
    "\n",
    "Potential next steps:\n",
    "- Import a realistic network of your choice and construct its Flow-Based domain.  \n",
    "- Explore alternative **capacity calculation** approaches with PyPowSyBl (e.g., NTC computations as illustrated in this tutorial).  \n",
    "- Extend the analysis to compare how different assumptions (e.g., FRM sizing, GSK selection, contingency sets) shape the admissible exchange domain.  \n"
   ]
  },
  {
   "cell_type": "markdown",
   "id": "d1564cda",
   "metadata": {},
   "source": [
    "---"
   ]
  },
  {
   "cell_type": "markdown",
   "id": "d37568a3",
   "metadata": {},
   "source": [
    "## References\n",
    "\n",
    "- *Introduction to PyPowSyBl: Network representation, load‑flow, and plotting* (notebook), Alexandre Marié, Coline Piloquet, and Sophie Frasnedo.\n",
    "- *Using PyPowSyBl to assess transfer capacity of new electrical interconnections* (notebook), Fabrice Guy, 2024.\n",
    "- *The flow-based market coupling domain - Why we can't get it right*, Felten et al, 2016.\n",
    "- *Core Flow‑Based Market Coupling*, by ENTSO-E."
   ]
  }
 ],
 "metadata": {
  "kernelspec": {
   "display_name": "Python 3 (ipykernel)",
   "language": "python",
   "name": "python3"
  },
  "language_info": {
   "codemirror_mode": {
    "name": "ipython",
    "version": 3
   },
   "file_extension": ".py",
   "mimetype": "text/x-python",
   "name": "python",
   "nbconvert_exporter": "python",
   "pygments_lexer": "ipython3",
   "version": "3.12.10"
  }
 },
 "nbformat": 4,
 "nbformat_minor": 5
}
